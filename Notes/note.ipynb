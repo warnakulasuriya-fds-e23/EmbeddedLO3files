{
 "cells": [
  {
   "cell_type": "markdown",
   "metadata": {},
   "source": [
    "# Workshop 20/01/2024\n",
    "\n",
    "in Atmega328P will have DDRX Registers. DDRB, DDRC, DDRD will be there. DDRA will not be available.\n",
    "\n",
    "* DDR - Data Direction Register \n",
    "\n"
   ]
  },
  {
   "cell_type": "markdown",
   "metadata": {},
   "source": [
    "In PIC controllers\n",
    "- 0=> output\n",
    "- 1=> input\n",
    "- Data Direction TRISX\n",
    "- Input/Output => PORT\n",
    "\n",
    "But in Atmega 328P that we are going to learn about\n",
    "things are a bit different\n",
    "- PINX registers (will be used to set input as high or low)\n",
    "- PORTX registers (will be used to set the output as high or low)\n",
    "- DDRX (will be used to control the direction of the data)\n",
    "- 1=> output\n",
    "- 0=> input\n",
    "\n",
    "\n",
    "note that: in PINX, PORTX, DDRX, the X can be replaced by letters eg: PINA\n",
    "\n"
   ]
  },
  {
   "cell_type": "markdown",
   "metadata": {},
   "source": [
    "![alt text](LightingLedUsingAtmega.png \"Title\")"
   ]
  },
  {
   "cell_type": "markdown",
   "metadata": {},
   "source": [
    "above diagram shows the idea of setting the PortB first line as output using DDRB = 0B 0000 0001\n",
    "and then setting the output firstline as high \n",
    "\n",
    "using PORTB = 0B 0000 0001"
   ]
  },
  {
   "cell_type": "markdown",
   "metadata": {},
   "source": [
    "but there is also another way to assign to the DDRB\n",
    "\n",
    "it can be done using the or operator ('|')\n",
    "\n",
    "DDRB = DDRB | 0B 0000 0001\n",
    "\n",
    "this is just so that only the relevant value of the DDRB we want to affect will be written and the others values will be left untouched\n",
    "\n",
    "for example\n",
    "\n",
    "DDRB = DDRB | 0B 0000 0001 (makes changes only to direction of the line 1 of PORT B)\n",
    "DDRB = DDRB | 0B 0000 0010 (makes changes only to direction of the line 2 of PORT B)\n",
    "DDRB = DDRB | 0B 0000 0100 (makes changes only to direction of the line 3 of PORT B)\n",
    "DDRB = DDRB | 0B 0000 1000 (makes changes only to direction of the line 4 of PORT B)\n",
    "\n"
   ]
  },
  {
   "cell_type": "markdown",
   "metadata": {},
   "source": [
    "![alt text](LightingLed2.png \"Title\")"
   ]
  },
  {
   "cell_type": "markdown",
   "metadata": {},
   "source": [
    "TO do the above thing we could use some advanced assignment operators\n",
    "And Equal \"&=\"\n",
    "OR Equal \"|=\"\n",
    "\n",
    "so we could safely set the DDRB without doing unncessary changes as follows\n",
    "\n",
    "DDRB|= 0B 0000 1000 (this will set PB0 as output)\n",
    "\n"
   ]
  },
  {
   "cell_type": "markdown",
   "metadata": {},
   "source": []
  },
  {
   "cell_type": "markdown",
   "metadata": {},
   "source": [
    "## to make only one bit to 1\n",
    "### => use |=\n",
    "\n",
    "\n",
    "## To make only one bit to 0\n",
    "### => use &="
   ]
  },
  {
   "cell_type": "markdown",
   "metadata": {},
   "source": []
  },
  {
   "cell_type": "markdown",
   "metadata": {},
   "source": [
    "# Timer Interrupt"
   ]
  },
  {
   "cell_type": "markdown",
   "metadata": {},
   "source": [
    "in atmel 328p the timer register and the timer compare register will be 16 bit registers, and they will both have two 8bit accessable(MSB 8bits and LSB 8bits) separtely for ease of use. Find their names. "
   ]
  },
  {
   "cell_type": "markdown",
   "metadata": {},
   "source": [
    "- TIMSK0 => Timer 0\n",
    "- TIMSK1 => Timer 1"
   ]
  },
  {
   "cell_type": "markdown",
   "metadata": {},
   "source": [
    "The CTC mode of operation in the compare mode can be described as follows"
   ]
  },
  {
   "cell_type": "markdown",
   "metadata": {},
   "source": [
    "![alt text](TImerInterruptCTCMode.png \"Title\")"
   ]
  },
  {
   "cell_type": "markdown",
   "metadata": {},
   "source": [
    "Following is what it would look like to use the timer interrupt in compare mode when the PreScaler is set to 256 and the mode of Operation is set to CTC,"
   ]
  },
  {
   "cell_type": "markdown",
   "metadata": {},
   "source": [
    "![alt text](PreScaler256InCTC.png \"Title\")"
   ]
  },
  {
   "cell_type": "markdown",
   "metadata": {},
   "source": [
    "\n",
    "now in a practical application to run the timer interrupt it would be important to find the pulses after 1s value that is indicated in blue."
   ]
  },
  {
   "cell_type": "markdown",
   "metadata": {},
   "source": [
    "we can find it as follows\n"
   ]
  },
  {
   "cell_type": "markdown",
   "metadata": {},
   "source": [
    "![alt text](CalculatingHowManyPulsesWouldGoByAfter1second.png \"Title\")"
   ]
  },
  {
   "cell_type": "markdown",
   "metadata": {},
   "source": [
    "the above  calculation means that it will take 62500 pulse for a second to pass, under the conditions we have defined (pre-scaler = 256, timer used is timer1:-16bit timer )"
   ]
  },
  {
   "cell_type": "markdown",
   "metadata": {},
   "source": [
    "# A/D converter in Atmega 328P"
   ]
  },
  {
   "cell_type": "markdown",
   "metadata": {},
   "source": [
    "10 bit successive approximation ADC"
   ]
  },
  {
   "cell_type": "markdown",
   "metadata": {},
   "source": [
    "![alt text](HowSensorsTransmitToADC.png \"Title\")"
   ]
  },
  {
   "cell_type": "markdown",
   "metadata": {},
   "source": [
    "![alt text](ADC2.png \"Title\")"
   ]
  },
  {
   "cell_type": "markdown",
   "metadata": {},
   "source": [
    "![alt text](ADC3.png \"Title\")"
   ]
  },
  {
   "cell_type": "markdown",
   "metadata": {},
   "source": [
    "![alt text](ADC4.png \"Title\")"
   ]
  },
  {
   "cell_type": "markdown",
   "metadata": {},
   "source": [
    "![alt text](ADC5.png \"Title\")"
   ]
  },
  {
   "cell_type": "markdown",
   "metadata": {},
   "source": [
    "![alt text](ADC6.png \"Title\")"
   ]
  },
  {
   "cell_type": "markdown",
   "metadata": {},
   "source": [
    "### Settings Required for A/D Converter\n",
    "\n",
    "ADMUX register needs to be set\n",
    "\n",
    "within this there is a bit identified as ADLAR\n",
    "\n",
    "- ADLAR = 1 => Left Align number => 8bits\n",
    "- ADLAR = 0 => Right Align number => 10bits"
   ]
  },
  {
   "cell_type": "markdown",
   "metadata": {},
   "source": [
    "writing 2 using 4 bits in right align (what we normally use to write byhand) => 0010\n",
    "\n",
    "writing 2 using 4 bits in left align  => 0100\n",
    "\n"
   ]
  },
  {
   "cell_type": "markdown",
   "metadata": {},
   "source": [
    "### Note:"
   ]
  },
  {
   "cell_type": "markdown",
   "metadata": {},
   "source": [
    "it is important for the ADC frequency to be in the range of 50kHz to 200kHz\n",
    "so amoung the pre Scalers we should use the 128 pre scaler which would give us a frequency of 125kHz which is in the range speified"
   ]
  },
  {
   "cell_type": "markdown",
   "metadata": {},
   "source": [
    "### Note:\n",
    "The ADSC of the ADCSRA register will be 1 during an analog to digital conversion and after the conversion, automatically, the ADSC will be set to 0.\n"
   ]
  },
  {
   "cell_type": "markdown",
   "metadata": {},
   "source": [
    "# UART (Universal Asynchronous Reciever and Transmitter)"
   ]
  },
  {
   "cell_type": "markdown",
   "metadata": {},
   "source": [
    "note that we will be dealing with something called USART (Universal Synchronus Asyncronous Transmitter)"
   ]
  },
  {
   "cell_type": "markdown",
   "metadata": {},
   "source": [
    "UART frame will consist of \n",
    "1. One start Bit\n",
    "2. 5-8 Data bit\n",
    "3. 1 or 2 stop bits\n",
    "4. Parity Bits"
   ]
  },
  {
   "cell_type": "markdown",
   "metadata": {},
   "source": [
    "![alt text](USARTDeviceConnections.png \"Title\")"
   ]
  },
  {
   "cell_type": "markdown",
   "metadata": {},
   "source": [
    "Note that its not always necessary for the two devices to have both their Reciever (Rx) and Transmitter (Tx) connected. Some devices can act as recieves only , others as transmitters only, and of course both can be used at the same time also."
   ]
  },
  {
   "cell_type": "markdown",
   "metadata": {},
   "source": [
    "when transmitting both the transmitter and the reciever should have the same baud rate for the communication to work properly."
   ]
  },
  {
   "cell_type": "markdown",
   "metadata": {},
   "source": [
    "Atmega328p has only one Rx and one Tx therefore we say that Atmega328p has only one UART module"
   ]
  },
  {
   "cell_type": "markdown",
   "metadata": {},
   "source": [
    "Atmega2560 actually has 4 UART modules\n"
   ]
  },
  {
   "cell_type": "markdown",
   "metadata": {},
   "source": [
    "When you are doing configuration you need to think about 4 things\n",
    "1. Baud Rate\n",
    "2. No.of Data bits\n",
    "3. No.of Parity bits\n",
    "4. No.of Stop bits"
   ]
  },
  {
   "cell_type": "markdown",
   "metadata": {},
   "source": [
    "## Baud Rate"
   ]
  },
  {
   "cell_type": "markdown",
   "metadata": {},
   "source": [
    "to configure Baud Rate we need to configure the UBRRn 16 bit register.\n",
    "\n",
    "UBRR - UART Baud Rate Register"
   ]
  },
  {
   "cell_type": "markdown",
   "metadata": {},
   "source": [
    "![alt text](BaudRate.png \"Title\")"
   ]
  },
  {
   "cell_type": "markdown",
   "metadata": {},
   "source": [
    "since UBRRn is a 16bit register there are two 8 bit registers UBRRHn and UBRRLn"
   ]
  },
  {
   "cell_type": "markdown",
   "metadata": {},
   "source": [
    "UCSROB: UART Control & Status Register 0 B (for Atmegea328p)\n",
    "\n",
    "\n",
    "UCSR0B, UCSR1B, UCSR2B, UCSR3B are available in Atmega2460\n"
   ]
  }
 ],
 "metadata": {
  "language_info": {
   "name": "python"
  }
 },
 "nbformat": 4,
 "nbformat_minor": 2
}
